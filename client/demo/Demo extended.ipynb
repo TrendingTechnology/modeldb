{
 "cells": [
  {
   "cell_type": "code",
   "execution_count": 1,
   "metadata": {},
   "outputs": [
    {
     "name": "stderr",
     "output_type": "stream",
     "text": [
      "/Users/conrado/workspace/modeldb-oss/client/verta/verta/_demo_utils.py:11: FutureWarning: `DeployedModel` is being moved to the `verta.deployment` module, and `verta._demo_utils` will be removed in a future version; consider using `from verta.deployment import DeployedModel` instead\n",
      "  category=FutureWarning)\n"
     ]
    }
   ],
   "source": [
    "import warnings\n",
    "from sklearn.exceptions import ConvergenceWarning\n",
    "warnings.filterwarnings(\"ignore\", category=ConvergenceWarning)\n",
    "\n",
    "import itertools\n",
    "import time\n",
    "from multiprocessing import Pool\n",
    "\n",
    "import numpy as np\n",
    "import pandas as pd\n",
    "\n",
    "from sklearn import model_selection\n",
    "from sklearn import linear_model\n",
    "from sklearn import metrics\n",
    "import sklearn\n",
    "import six\n",
    "import verta\n",
    "from verta.utils import ModelAPI\n",
    "from verta._demo_utils import DeployedModel"
   ]
  },
  {
   "cell_type": "code",
   "execution_count": 2,
   "metadata": {},
   "outputs": [],
   "source": [
    "now = time.time()"
   ]
  },
  {
   "cell_type": "code",
   "execution_count": 3,
   "metadata": {},
   "outputs": [],
   "source": [
    "import random\n",
    "random.seed(0)"
   ]
  },
  {
   "cell_type": "code",
   "execution_count": 4,
   "metadata": {},
   "outputs": [
    {
     "name": "stdout",
     "output_type": "stream",
     "text": [
      "set email from environment\n",
      "set developer key from environment\n",
      "connection successfully established\n"
     ]
    }
   ],
   "source": [
    "from verta import Client\n",
    "client = Client(\"https://demo.dev.verta.ai\")"
   ]
  },
  {
   "cell_type": "code",
   "execution_count": 5,
   "metadata": {},
   "outputs": [
    {
     "name": "stdout",
     "output_type": "stream",
     "text": [
      "created new Project: Census - Demo - Extensive in workspace: Demos\n"
     ]
    }
   ],
   "source": [
    "proj = client.set_project(\"Census - Demo - Extensive\", workspace=\"Demos\")"
   ]
  },
  {
   "cell_type": "code",
   "execution_count": 6,
   "metadata": {},
   "outputs": [],
   "source": [
    "experiments = {\n",
    "    'Linear regression': {\n",
    "        'range': [3600*24*30, 3600*24*10],\n",
    "        'acc': [0.1, 0.4],\n",
    "        'train_loss': [0.5, 1.],\n",
    "    },\n",
    "    'SVM': {\n",
    "        'range': [3600*24*15, 3600*24*5],\n",
    "        'acc': [0.3, 0.7],\n",
    "        'train_loss': [0.1, 0.7],\n",
    "    },\n",
    "    'DNN': {\n",
    "        'range': [3600*24*7, 0],\n",
    "        'acc': [0.7, 0.9],\n",
    "        'train_loss': [0, 0.1],\n",
    "    },\n",
    "}"
   ]
  },
  {
   "cell_type": "code",
   "execution_count": 7,
   "metadata": {},
   "outputs": [],
   "source": [
    "hyperparam_candidates = {\n",
    "    'lr': [1e-4, 1e-6],\n",
    "    'model_size': [10, 20],\n",
    "}\n",
    "hyperparam_sets = [dict(zip(hyperparam_candidates.keys(), values))\n",
    "                   for values\n",
    "                   in itertools.product(*hyperparam_candidates.values())]"
   ]
  },
  {
   "cell_type": "code",
   "execution_count": 9,
   "metadata": {
    "scrolled": false
   },
   "outputs": [
    {
     "name": "stdout",
     "output_type": "stream",
     "text": [
      "set existing Experiment: Linear regression\n",
      "[2592000, 864000]\n",
      "created new ExperimentRun: Run 2055015814642158040252\n",
      "878800\n",
      "created new ExperimentRun: Run 205501581464217546426\n",
      "891000\n",
      "created new ExperimentRun: Run 205501581464219271998\n",
      "971200\n",
      "created new ExperimentRun: Run 205501581464222206094\n",
      "996000\n",
      "created new ExperimentRun: Run 205501581464226212259\n",
      "1056800\n",
      "created new ExperimentRun: Run 205501581464232440937\n",
      "1160400\n",
      "created new ExperimentRun: Run 2055015814642351340249\n",
      "1276400\n",
      "created new ExperimentRun: Run 205501581464237188323\n",
      "1350000\n",
      "created new ExperimentRun: Run 2055015814642430462332\n",
      "1430000\n",
      "created new ExperimentRun: Run 205501581464244580449\n",
      "1500800\n",
      "created new ExperimentRun: Run 205501581464246486391\n",
      "1591600\n",
      "created new ExperimentRun: Run 205501581464248043961\n",
      "1641200\n",
      "created new ExperimentRun: Run 205501581464249610559\n",
      "1706400\n",
      "created new ExperimentRun: Run 205501581464251249076\n",
      "1745000\n",
      "created new ExperimentRun: Run 205501581464259088875\n",
      "1773400\n",
      "created new ExperimentRun: Run 205501581464260895921\n",
      "1865400\n",
      "created new ExperimentRun: Run 205501581464262686464\n",
      "1984200\n",
      "created new ExperimentRun: Run 205501581464264692771\n",
      "2082000\n",
      "created new ExperimentRun: Run 205501581464266384618\n",
      "2167000\n",
      "created new ExperimentRun: Run 205501581464272194586\n",
      "2278600\n",
      "created new ExperimentRun: Run 205501581464273836431\n",
      "2329400\n",
      "created new ExperimentRun: Run 20550158146427538702\n",
      "2365200\n",
      "created new ExperimentRun: Run 20550158146427703719\n",
      "2412000\n",
      "created new ExperimentRun: Run 205501581464278832763\n",
      "2444600\n",
      "created new ExperimentRun: Run 20550158146428050707\n",
      "2501400\n",
      "created new ExperimentRun: Run 205501581464285986625\n",
      "2528400\n",
      "created new ExperimentRun: Run 2055015814642877110012\n",
      "2564800\n",
      "created new ExperimentRun: Run 205501581464289371825\n",
      "2600400\n",
      "set existing Experiment: SVM\n",
      "[1296000, 432000]\n",
      "created new ExperimentRun: Run 2055015814642923100128\n",
      "481800\n",
      "created new ExperimentRun: Run 2055015814642940494568\n",
      "506200\n",
      "created new ExperimentRun: Run 2055015814643002891269\n",
      "605200\n",
      "created new ExperimentRun: Run 205501581464301993471\n",
      "631400\n",
      "created new ExperimentRun: Run 205501581464304132776\n",
      "715000\n",
      "created new ExperimentRun: Run 20550158146430585462\n",
      "822600\n",
      "created new ExperimentRun: Run 2055015814643080037398\n",
      "914600\n",
      "created new ExperimentRun: Run 205501581464314594015\n",
      "1022800\n",
      "created new ExperimentRun: Run 2055015814643161928692\n",
      "1069400\n",
      "created new ExperimentRun: Run 205501581464317863122\n",
      "1093200\n",
      "created new ExperimentRun: Run 205501581464319499189\n",
      "1138200\n",
      "created new ExperimentRun: Run 205501581464321936158\n",
      "1240600\n",
      "created new ExperimentRun: Run 205501581464328095835\n",
      "1336400\n",
      "set existing Experiment: DNN\n",
      "[604800, 0]\n",
      "created new ExperimentRun: Run 205501581464330996151\n",
      "75600\n",
      "created new ExperimentRun: Run 2055015814643326430862\n",
      "138800\n",
      "created new ExperimentRun: Run 205501581464334367733\n",
      "244400\n",
      "created new ExperimentRun: Run 20550158146433629088\n",
      "265600\n",
      "created new ExperimentRun: Run 205501581464342498655\n",
      "376200\n",
      "created new ExperimentRun: Run 205501581464345598059\n",
      "461600\n",
      "created new ExperimentRun: Run 2055015814643479331808\n",
      "500600\n",
      "created new ExperimentRun: Run 2055015814643570515132\n",
      "597400\n",
      "created new ExperimentRun: Run 2055015814643587522361\n",
      "648600\n"
     ]
    }
   ],
   "source": [
    "index = 0\n",
    "for ex_name, ex_details in experiments.items():\n",
    "    ex_range = ex_details['range']\n",
    "    ac_range = ex_details['acc']\n",
    "    train_range = ex_details['train_loss']\n",
    "    client.set_experiment(ex_name)\n",
    "    dt = ex_range[1]\n",
    "    print(ex_range)\n",
    "    while dt < ex_range[0]:\n",
    "        run = client.set_experiment_run(date_created=int((now-dt)*1000))\n",
    "        run.log_hyperparameters(hyperparam_sets[index])\n",
    "        run.log_metrics({\n",
    "            'val_acc': random.uniform(*ac_range),\n",
    "            'train_loss': random.uniform(*train_range),\n",
    "        })\n",
    "        index += 1\n",
    "        if index >= len(hyperparam_sets):\n",
    "            index=0\n",
    "        dt += random.randrange(60, 60*10)*200\n",
    "        print(dt)"
   ]
  },
  {
   "cell_type": "code",
   "execution_count": null,
   "metadata": {},
   "outputs": [],
   "source": []
  }
 ],
 "metadata": {
  "kernelspec": {
   "display_name": "Python 3",
   "language": "python",
   "name": "python3"
  },
  "language_info": {
   "codemirror_mode": {
    "name": "ipython",
    "version": 3
   },
   "file_extension": ".py",
   "mimetype": "text/x-python",
   "name": "python",
   "nbconvert_exporter": "python",
   "pygments_lexer": "ipython3",
   "version": "3.7.3"
  }
 },
 "nbformat": 4,
 "nbformat_minor": 2
}
